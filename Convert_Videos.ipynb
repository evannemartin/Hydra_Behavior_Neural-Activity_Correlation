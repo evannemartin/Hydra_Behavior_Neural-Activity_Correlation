{
 "cells": [
  {
   "cell_type": "code",
   "execution_count": 9,
   "id": "427d44b9",
   "metadata": {},
   "outputs": [],
   "source": [
    "import cv2\n",
    "import matplotlib.pyplot as plt\n",
    "import numpy as np\n",
    "import pandas as pd\n",
    "from PIL import Image\n",
    "import scipy\n",
    "import tiffcapture as tc\n",
    "import time\n",
    "import torch\n",
    "import torchvision\n",
    "from tqdm.notebook import tqdm"
   ]
  },
  {
   "cell_type": "code",
   "execution_count": 3,
   "id": "0ee92855",
   "metadata": {},
   "outputs": [],
   "source": [
    "# opencv colors\n",
    "\n",
    "BLUE = (255, 0, 0)\n",
    "GREEN = (0, 255, 0)\n",
    "RED = (0, 0, 255)"
   ]
  },
  {
   "cell_type": "markdown",
   "id": "9edc1a64",
   "metadata": {},
   "source": [
    "## Rescale and preprocess some movies"
   ]
  },
  {
   "cell_type": "code",
   "execution_count": 1,
   "id": "d09b9ab1",
   "metadata": {},
   "outputs": [],
   "source": [
    "import numpy as np\n",
    "import matplotlib.pyplot as plt\n",
    "#import skvideo.io\n",
    "import tifffile"
   ]
  },
  {
   "cell_type": "code",
   "execution_count": 13,
   "id": "1393113c",
   "metadata": {},
   "outputs": [
    {
     "name": "stdout",
     "output_type": "stream",
     "text": [
      "(914, 1024, 1024) uint16\n"
     ]
    }
   ],
   "source": [
    "file = \"../Data/Videos/20140829 3.tif\"\n",
    "arr = tifffile.imread(file)\n",
    "print(arr.shape, arr.dtype)\n",
    "#arr.min(), np.median(arr), arr.max()"
   ]
  },
  {
   "cell_type": "code",
   "execution_count": 14,
   "id": "b5b141bd",
   "metadata": {},
   "outputs": [],
   "source": [
    "a, b = np.histogram(arr, bins=(range(300, 2500, 10)))"
   ]
  },
  {
   "cell_type": "code",
   "execution_count": 15,
   "id": "9e43e6d6",
   "metadata": {},
   "outputs": [
    {
     "data": {
      "image/png": "[encoded data removed]",
      "text/plain": [
       "<Figure size 432x288 with 1 Axes>"
      ]
     },
     "metadata": {
      "needs_background": "light"
     },
     "output_type": "display_data"
    }
   ],
   "source": [
    "plt.bar(b[:-1], a, width=10)\n",
    "plt.show()"
   ]
  },
  {
   "cell_type": "code",
   "execution_count": 16,
   "id": "d5f4f762",
   "metadata": {},
   "outputs": [
    {
     "data": {
      "text/plain": [
       "0.9989108820191097"
      ]
     },
     "execution_count": 16,
     "metadata": {},
     "output_type": "execute_result"
    }
   ],
   "source": [
    "(arr < 1000).sum() / arr.size"
   ]
  },
  {
   "cell_type": "code",
   "execution_count": 17,
   "id": "b67d3633",
   "metadata": {},
   "outputs": [],
   "source": [
    "#change mini, maxi depending on the range of values on the histogram\n",
    "mini = 300 \n",
    "maxi = 1000\n",
    "\n",
    "np.clip(arr, mini, maxi, arr)\n",
    "\n",
    "\n",
    "scaled = ((arr - mini) / (maxi - mini) * 255).astype(np.uint8)\n",
    "\n",
    "\n",
    "tifffile.imwrite(file.split(\".tif\")[0] + \"(smart_rescaled).tif\", scaled)"
   ]
  },
  {
   "cell_type": "markdown",
   "id": "4d4f7b48",
   "metadata": {},
   "source": [
    "## See movies and save in .avi\n"
   ]
  },
  {
   "cell_type": "code",
   "execution_count": 10,
   "id": "ad81c21b",
   "metadata": {},
   "outputs": [
    {
     "data": {
      "text/plain": [
       "1482049860"
      ]
     },
     "execution_count": 10,
     "metadata": {},
     "output_type": "execute_result"
    }
   ],
   "source": [
    "cv2.VideoWriter_fourcc(*\"DIVX\")"
   ]
  },
  {
   "cell_type": "code",
   "execution_count": 27,
   "id": "939984d3",
   "metadata": {},
   "outputs": [
    {
     "ename": "AttributeError",
     "evalue": "release",
     "output_type": "error",
     "traceback": [
      "\u001b[1;31m---------------------------------------------------------------------------\u001b[0m",
      "\u001b[1;31mAttributeError\u001b[0m                            Traceback (most recent call last)",
      "\u001b[1;32m<ipython-input-27-53f4253b6f11>\u001b[0m in \u001b[0;36m<module>\u001b[1;34m\u001b[0m\n\u001b[0;32m     17\u001b[0m \u001b[1;33m\u001b[0m\u001b[0m\n\u001b[0;32m     18\u001b[0m \u001b[0mcv2\u001b[0m\u001b[1;33m.\u001b[0m\u001b[0mdestroyAllWindows\u001b[0m\u001b[1;33m(\u001b[0m\u001b[1;33m)\u001b[0m\u001b[1;33m\u001b[0m\u001b[1;33m\u001b[0m\u001b[0m\n\u001b[1;32m---> 19\u001b[1;33m \u001b[0mvideo\u001b[0m\u001b[1;33m.\u001b[0m\u001b[0mrelease\u001b[0m\u001b[1;33m(\u001b[0m\u001b[1;33m)\u001b[0m\u001b[1;33m\u001b[0m\u001b[1;33m\u001b[0m\u001b[0m\n\u001b[0m",
      "\u001b[1;32m~\\anaconda3\\lib\\site-packages\\PIL\\Image.py\u001b[0m in \u001b[0;36m__getattr__\u001b[1;34m(self, name)\u001b[0m\n\u001b[0;32m    539\u001b[0m             )\n\u001b[0;32m    540\u001b[0m             \u001b[1;32mreturn\u001b[0m \u001b[0mself\u001b[0m\u001b[1;33m.\u001b[0m\u001b[0m_category\u001b[0m\u001b[1;33m\u001b[0m\u001b[1;33m\u001b[0m\u001b[0m\n\u001b[1;32m--> 541\u001b[1;33m         \u001b[1;32mraise\u001b[0m \u001b[0mAttributeError\u001b[0m\u001b[1;33m(\u001b[0m\u001b[0mname\u001b[0m\u001b[1;33m)\u001b[0m\u001b[1;33m\u001b[0m\u001b[1;33m\u001b[0m\u001b[0m\n\u001b[0m\u001b[0;32m    542\u001b[0m \u001b[1;33m\u001b[0m\u001b[0m\n\u001b[0;32m    543\u001b[0m     \u001b[1;33m@\u001b[0m\u001b[0mproperty\u001b[0m\u001b[1;33m\u001b[0m\u001b[1;33m\u001b[0m\u001b[0m\n",
      "\u001b[1;31mAttributeError\u001b[0m: release"
     ]
    }
   ],
   "source": [
    "#read the video\n",
    "\n",
    "video = Image.open(\"../Data/Videos/20140829 3(smart_rescaled).tif\")\n",
    "\n",
    "fps = 30\n",
    "frame = np.array(video)\n",
    "\n",
    "for i in range(video.n_frames):\n",
    "    video.seek(i)\n",
    "    frame = np.array(video)\n",
    "    \n",
    "    cv2.imshow('Frame', frame)\n",
    "    key = cv2.waitKey(int(1/fps * 1000)) & 0xFF\n",
    "\n",
    "    if key == ord('q'):\n",
    "        break\n",
    "        \n",
    "cv2.destroyAllWindows()\n",
    "video.release()"
   ]
  },
  {
   "cell_type": "code",
   "execution_count": 28,
   "id": "f6f2a967",
   "metadata": {},
   "outputs": [],
   "source": [
    "#convert in avi\n",
    "\n",
    "fps = 30\n",
    "frame = np.array(video)\n",
    "#frame = cv2.resize(frame, (1280,720))\n",
    "height , width =  frame.shape\n",
    "videoavi = cv2.VideoWriter('../Data/Videos/20140829 3.avi',cv2.VideoWriter_fourcc(*\"DIVX\"), fps,(width,height), 0)\n",
    "\n",
    "for i in range(video.n_frames):\n",
    "    video.seek(i)\n",
    "    frame = np.array(video)\n",
    "    videoavi.write(frame)\n",
    "        \n",
    "cv2.destroyAllWindows()\n",
    "videoavi.release()"
   ]
  }
 ],
 "metadata": {
  "kernelspec": {
   "display_name": "Python 3",
   "language": "python",
   "name": "python3"
  },
  "language_info": {
   "codemirror_mode": {
    "name": "ipython",
    "version": 3
   },
   "file_extension": ".py",
   "mimetype": "text/x-python",
   "name": "python",
   "nbconvert_exporter": "python",
   "pygments_lexer": "ipython3",
   "version": "3.8.8"
  }
 },
 "nbformat": 4,
 "nbformat_minor": 5
}
